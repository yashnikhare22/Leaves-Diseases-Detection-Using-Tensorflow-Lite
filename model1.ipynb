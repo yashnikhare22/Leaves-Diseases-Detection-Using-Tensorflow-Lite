{
  "cells": [
    {
      "cell_type": "code",
      "execution_count": null,
      "metadata": {
        "id": "a6c07cal2FjZ"
      },
      "outputs": [],
      "source": [
        "#!unzip '/content/drive/MyDrive/ML_Summer2023/leaf/data.zip' -d '/content/drive/MyDrive/ML_Summer2023/leaf/'"
      ]
    },
    {
      "cell_type": "code",
      "execution_count": null,
      "metadata": {
        "id": "kdzrTPRa3nRY"
      },
      "outputs": [],
      "source": [
        "import tensorflow as tf\n",
        "import os\n",
        "import random\n",
        "from sklearn.model_selection import train_test_split"
      ]
    },
    {
      "cell_type": "code",
      "execution_count": null,
      "metadata": {
        "id": "EuY_mtHi6wdr"
      },
      "outputs": [],
      "source": [
        "from tensorflow.keras.layers import Input, Lambda, Dense, Flatten\n",
        "from tensorflow.keras.layers import Dropout, Dense, GlobalAveragePooling2D"
      ]
    },
    {
      "cell_type": "code",
      "execution_count": null,
      "metadata": {
        "id": "dBo9WMjh8G6J"
      },
      "outputs": [],
      "source": [
        "\n",
        "from tensorflow.keras.preprocessing.image import ImageDataGenerator\n",
        "\n",
        "train_datagen = ImageDataGenerator(rescale = 1./255.,\n",
        "                                   rotation_range = 40,\n",
        "                                   width_shift_range = 0.2,\n",
        "                                   height_shift_range = 0.2,\n",
        "                                   shear_range = 0.2,\n",
        "                                   zoom_range = 0.2,\n",
        "                                   horizontal_flip = True)\n",
        "\n",
        "test_datagen = ImageDataGenerator( rescale = 1.0/255.,\n",
        "                                  rotation_range = 40,\n",
        "                                   width_shift_range = 0.2,\n",
        "                                   height_shift_range = 0.2,\n",
        "                                   shear_range = 0.2,\n",
        "                                   zoom_range = 0.2,\n",
        "                                   horizontal_flip = True)"
      ]
    },
    {
      "cell_type": "code",
      "execution_count": null,
      "metadata": {
        "colab": {
          "base_uri": "https://localhost:8080/"
        },
        "id": "ICfbcQt88Ic-",
        "outputId": "bd6dbffa-1ae7-40ae-9db6-050fd4c1f87e"
      },
      "outputs": [
        {
          "output_type": "stream",
          "name": "stdout",
          "text": [
            "Found 8697 images belonging to 4 classes.\n"
          ]
        }
      ],
      "source": [
        "\n",
        "# Make sure you provide the same target size as initialied for the image size\n",
        "training_set = train_datagen.flow_from_directory('/content/drive/MyDrive/ML_Summer2023/leaf/data/train',\n",
        "                                                 target_size = (224, 224),\n",
        "                                                 batch_size = 64,\n",
        "                                                 class_mode = 'categorical')"
      ]
    },
    {
      "cell_type": "code",
      "execution_count": null,
      "metadata": {
        "colab": {
          "base_uri": "https://localhost:8080/"
        },
        "id": "3F2rxTbj-O08",
        "outputId": "b3a48486-853b-4c51-8de2-4b7e9b2f70c8"
      },
      "outputs": [
        {
          "output_type": "stream",
          "name": "stdout",
          "text": [
            "Found 3732 images belonging to 4 classes.\n"
          ]
        }
      ],
      "source": [
        "test_set = test_datagen.flow_from_directory('/content/drive/MyDrive/ML_Summer2023/leaf/data/test',\n",
        "                                            target_size = (224, 224),\n",
        "                                            batch_size = 64,\n",
        "                                            class_mode = 'categorical')"
      ]
    },
    {
      "cell_type": "code",
      "execution_count": null,
      "metadata": {
        "colab": {
          "base_uri": "https://localhost:8080/"
        },
        "id": "_VUG5jrWA5f3",
        "outputId": "b6fd7884-1d18-4fbf-83db-9e0021feece6"
      },
      "outputs": [
        {
          "output_type": "stream",
          "name": "stdout",
          "text": [
            "Downloading data from https://storage.googleapis.com/tensorflow/keras-applications/mobilenet_v2/mobilenet_v2_weights_tf_dim_ordering_tf_kernels_1.0_224_no_top.h5\n",
            "9406464/9406464 [==============================] - 0s 0us/step\n"
          ]
        }
      ],
      "source": [
        "import os\n",
        "import tensorflow as tf\n",
        "\n",
        "from tensorflow.keras import layers\n",
        "from tensorflow.keras import Model\n",
        "\n",
        "\n",
        "from tensorflow.keras.applications import MobileNetV2\n",
        "\n",
        "#from tensorflow.keras.applications.MobileNetV2 import preprocess_input\n",
        "from tensorflow.keras.preprocessing import image\n",
        "from glob import glob\n",
        "\n",
        "\n",
        "MobileNetV2 = MobileNetV2(input_shape=(224,224,3), weights='imagenet', include_top=False)"
      ]
    },
    {
      "cell_type": "code",
      "execution_count": null,
      "metadata": {
        "id": "tl6ydsvrDwS0"
      },
      "outputs": [],
      "source": [
        "num_layers_to_freeze = 10\n",
        "for layer in MobileNetV2.layers[:num_layers_to_freeze]:\n",
        "    layer.trainable = False\n"
      ]
    },
    {
      "cell_type": "code",
      "execution_count": null,
      "metadata": {
        "id": "ot0Ej4ruD43N"
      },
      "outputs": [],
      "source": [
        "x=MobileNetV2.output\n",
        "x= GlobalAveragePooling2D()(x)\n",
        "x = Flatten()(x)\n",
        "dropout_rate = 0.5\n",
        "x = Dropout(dropout_rate)(x)\n",
        "prediction = Dense(4, activation='softmax',kernel_regularizer='l2')(x)\n",
        "\n",
        "# create a model object\n",
        "model = Model(inputs=MobileNetV2.input, outputs=prediction)"
      ]
    },
    {
      "cell_type": "code",
      "execution_count": null,
      "metadata": {
        "colab": {
          "base_uri": "https://localhost:8080/"
        },
        "id": "e5cwwM-vAuBV",
        "outputId": "061ea06d-5d67-4834-b16d-7088747202f6"
      },
      "outputs": [
        {
          "output_type": "stream",
          "name": "stdout",
          "text": [
            "Model: \"model\"\n",
            "__________________________________________________________________________________________________\n",
            " Layer (type)                   Output Shape         Param #     Connected to                     \n",
            "==================================================================================================\n",
            " input_1 (InputLayer)           [(None, 224, 224, 3  0           []                               \n",
            "                                )]                                                                \n",
            "                                                                                                  \n",
            " Conv1 (Conv2D)                 (None, 112, 112, 32  864         ['input_1[0][0]']                \n",
            "                                )                                                                 \n",
            "                                                                                                  \n",
            " bn_Conv1 (BatchNormalization)  (None, 112, 112, 32  128         ['Conv1[0][0]']                  \n",
            "                                )                                                                 \n",
            "                                                                                                  \n",
            " Conv1_relu (ReLU)              (None, 112, 112, 32  0           ['bn_Conv1[0][0]']               \n",
            "                                )                                                                 \n",
            "                                                                                                  \n",
            " expanded_conv_depthwise (Depth  (None, 112, 112, 32  288        ['Conv1_relu[0][0]']             \n",
            " wiseConv2D)                    )                                                                 \n",
            "                                                                                                  \n",
            " expanded_conv_depthwise_BN (Ba  (None, 112, 112, 32  128        ['expanded_conv_depthwise[0][0]']\n",
            " tchNormalization)              )                                                                 \n",
            "                                                                                                  \n",
            " expanded_conv_depthwise_relu (  (None, 112, 112, 32  0          ['expanded_conv_depthwise_BN[0][0\n",
            " ReLU)                          )                                ]']                              \n",
            "                                                                                                  \n",
            " expanded_conv_project (Conv2D)  (None, 112, 112, 16  512        ['expanded_conv_depthwise_relu[0]\n",
            "                                )                                [0]']                            \n",
            "                                                                                                  \n",
            " expanded_conv_project_BN (Batc  (None, 112, 112, 16  64         ['expanded_conv_project[0][0]']  \n",
            " hNormalization)                )                                                                 \n",
            "                                                                                                  \n",
            " block_1_expand (Conv2D)        (None, 112, 112, 96  1536        ['expanded_conv_project_BN[0][0]'\n",
            "                                )                                ]                                \n",
            "                                                                                                  \n",
            " block_1_expand_BN (BatchNormal  (None, 112, 112, 96  384        ['block_1_expand[0][0]']         \n",
            " ization)                       )                                                                 \n",
            "                                                                                                  \n",
            " block_1_expand_relu (ReLU)     (None, 112, 112, 96  0           ['block_1_expand_BN[0][0]']      \n",
            "                                )                                                                 \n",
            "                                                                                                  \n",
            " block_1_pad (ZeroPadding2D)    (None, 113, 113, 96  0           ['block_1_expand_relu[0][0]']    \n",
            "                                )                                                                 \n",
            "                                                                                                  \n",
            " block_1_depthwise (DepthwiseCo  (None, 56, 56, 96)  864         ['block_1_pad[0][0]']            \n",
            " nv2D)                                                                                            \n",
            "                                                                                                  \n",
            " block_1_depthwise_BN (BatchNor  (None, 56, 56, 96)  384         ['block_1_depthwise[0][0]']      \n",
            " malization)                                                                                      \n",
            "                                                                                                  \n",
            " block_1_depthwise_relu (ReLU)  (None, 56, 56, 96)   0           ['block_1_depthwise_BN[0][0]']   \n",
            "                                                                                                  \n",
            " block_1_project (Conv2D)       (None, 56, 56, 24)   2304        ['block_1_depthwise_relu[0][0]'] \n",
            "                                                                                                  \n",
            " block_1_project_BN (BatchNorma  (None, 56, 56, 24)  96          ['block_1_project[0][0]']        \n",
            " lization)                                                                                        \n",
            "                                                                                                  \n",
            " block_2_expand (Conv2D)        (None, 56, 56, 144)  3456        ['block_1_project_BN[0][0]']     \n",
            "                                                                                                  \n",
            " block_2_expand_BN (BatchNormal  (None, 56, 56, 144)  576        ['block_2_expand[0][0]']         \n",
            " ization)                                                                                         \n",
            "                                                                                                  \n",
            " block_2_expand_relu (ReLU)     (None, 56, 56, 144)  0           ['block_2_expand_BN[0][0]']      \n",
            "                                                                                                  \n",
            " block_2_depthwise (DepthwiseCo  (None, 56, 56, 144)  1296       ['block_2_expand_relu[0][0]']    \n",
            " nv2D)                                                                                            \n",
            "                                                                                                  \n",
            " block_2_depthwise_BN (BatchNor  (None, 56, 56, 144)  576        ['block_2_depthwise[0][0]']      \n",
            " malization)                                                                                      \n",
            "                                                                                                  \n",
            " block_2_depthwise_relu (ReLU)  (None, 56, 56, 144)  0           ['block_2_depthwise_BN[0][0]']   \n",
            "                                                                                                  \n",
            " block_2_project (Conv2D)       (None, 56, 56, 24)   3456        ['block_2_depthwise_relu[0][0]'] \n",
            "                                                                                                  \n",
            " block_2_project_BN (BatchNorma  (None, 56, 56, 24)  96          ['block_2_project[0][0]']        \n",
            " lization)                                                                                        \n",
            "                                                                                                  \n",
            " block_2_add (Add)              (None, 56, 56, 24)   0           ['block_1_project_BN[0][0]',     \n",
            "                                                                  'block_2_project_BN[0][0]']     \n",
            "                                                                                                  \n",
            " block_3_expand (Conv2D)        (None, 56, 56, 144)  3456        ['block_2_add[0][0]']            \n",
            "                                                                                                  \n",
            " block_3_expand_BN (BatchNormal  (None, 56, 56, 144)  576        ['block_3_expand[0][0]']         \n",
            " ization)                                                                                         \n",
            "                                                                                                  \n",
            " block_3_expand_relu (ReLU)     (None, 56, 56, 144)  0           ['block_3_expand_BN[0][0]']      \n",
            "                                                                                                  \n",
            " block_3_pad (ZeroPadding2D)    (None, 57, 57, 144)  0           ['block_3_expand_relu[0][0]']    \n",
            "                                                                                                  \n",
            " block_3_depthwise (DepthwiseCo  (None, 28, 28, 144)  1296       ['block_3_pad[0][0]']            \n",
            " nv2D)                                                                                            \n",
            "                                                                                                  \n",
            " block_3_depthwise_BN (BatchNor  (None, 28, 28, 144)  576        ['block_3_depthwise[0][0]']      \n",
            " malization)                                                                                      \n",
            "                                                                                                  \n",
            " block_3_depthwise_relu (ReLU)  (None, 28, 28, 144)  0           ['block_3_depthwise_BN[0][0]']   \n",
            "                                                                                                  \n",
            " block_3_project (Conv2D)       (None, 28, 28, 32)   4608        ['block_3_depthwise_relu[0][0]'] \n",
            "                                                                                                  \n",
            " block_3_project_BN (BatchNorma  (None, 28, 28, 32)  128         ['block_3_project[0][0]']        \n",
            " lization)                                                                                        \n",
            "                                                                                                  \n",
            " block_4_expand (Conv2D)        (None, 28, 28, 192)  6144        ['block_3_project_BN[0][0]']     \n",
            "                                                                                                  \n",
            " block_4_expand_BN (BatchNormal  (None, 28, 28, 192)  768        ['block_4_expand[0][0]']         \n",
            " ization)                                                                                         \n",
            "                                                                                                  \n",
            " block_4_expand_relu (ReLU)     (None, 28, 28, 192)  0           ['block_4_expand_BN[0][0]']      \n",
            "                                                                                                  \n",
            " block_4_depthwise (DepthwiseCo  (None, 28, 28, 192)  1728       ['block_4_expand_relu[0][0]']    \n",
            " nv2D)                                                                                            \n",
            "                                                                                                  \n",
            " block_4_depthwise_BN (BatchNor  (None, 28, 28, 192)  768        ['block_4_depthwise[0][0]']      \n",
            " malization)                                                                                      \n",
            "                                                                                                  \n",
            " block_4_depthwise_relu (ReLU)  (None, 28, 28, 192)  0           ['block_4_depthwise_BN[0][0]']   \n",
            "                                                                                                  \n",
            " block_4_project (Conv2D)       (None, 28, 28, 32)   6144        ['block_4_depthwise_relu[0][0]'] \n",
            "                                                                                                  \n",
            " block_4_project_BN (BatchNorma  (None, 28, 28, 32)  128         ['block_4_project[0][0]']        \n",
            " lization)                                                                                        \n",
            "                                                                                                  \n",
            " block_4_add (Add)              (None, 28, 28, 32)   0           ['block_3_project_BN[0][0]',     \n",
            "                                                                  'block_4_project_BN[0][0]']     \n",
            "                                                                                                  \n",
            " block_5_expand (Conv2D)        (None, 28, 28, 192)  6144        ['block_4_add[0][0]']            \n",
            "                                                                                                  \n",
            " block_5_expand_BN (BatchNormal  (None, 28, 28, 192)  768        ['block_5_expand[0][0]']         \n",
            " ization)                                                                                         \n",
            "                                                                                                  \n",
            " block_5_expand_relu (ReLU)     (None, 28, 28, 192)  0           ['block_5_expand_BN[0][0]']      \n",
            "                                                                                                  \n",
            " block_5_depthwise (DepthwiseCo  (None, 28, 28, 192)  1728       ['block_5_expand_relu[0][0]']    \n",
            " nv2D)                                                                                            \n",
            "                                                                                                  \n",
            " block_5_depthwise_BN (BatchNor  (None, 28, 28, 192)  768        ['block_5_depthwise[0][0]']      \n",
            " malization)                                                                                      \n",
            "                                                                                                  \n",
            " block_5_depthwise_relu (ReLU)  (None, 28, 28, 192)  0           ['block_5_depthwise_BN[0][0]']   \n",
            "                                                                                                  \n",
            " block_5_project (Conv2D)       (None, 28, 28, 32)   6144        ['block_5_depthwise_relu[0][0]'] \n",
            "                                                                                                  \n",
            " block_5_project_BN (BatchNorma  (None, 28, 28, 32)  128         ['block_5_project[0][0]']        \n",
            " lization)                                                                                        \n",
            "                                                                                                  \n",
            " block_5_add (Add)              (None, 28, 28, 32)   0           ['block_4_add[0][0]',            \n",
            "                                                                  'block_5_project_BN[0][0]']     \n",
            "                                                                                                  \n",
            " block_6_expand (Conv2D)        (None, 28, 28, 192)  6144        ['block_5_add[0][0]']            \n",
            "                                                                                                  \n",
            " block_6_expand_BN (BatchNormal  (None, 28, 28, 192)  768        ['block_6_expand[0][0]']         \n",
            " ization)                                                                                         \n",
            "                                                                                                  \n",
            " block_6_expand_relu (ReLU)     (None, 28, 28, 192)  0           ['block_6_expand_BN[0][0]']      \n",
            "                                                                                                  \n",
            " block_6_pad (ZeroPadding2D)    (None, 29, 29, 192)  0           ['block_6_expand_relu[0][0]']    \n",
            "                                                                                                  \n",
            " block_6_depthwise (DepthwiseCo  (None, 14, 14, 192)  1728       ['block_6_pad[0][0]']            \n",
            " nv2D)                                                                                            \n",
            "                                                                                                  \n",
            " block_6_depthwise_BN (BatchNor  (None, 14, 14, 192)  768        ['block_6_depthwise[0][0]']      \n",
            " malization)                                                                                      \n",
            "                                                                                                  \n",
            " block_6_depthwise_relu (ReLU)  (None, 14, 14, 192)  0           ['block_6_depthwise_BN[0][0]']   \n",
            "                                                                                                  \n",
            " block_6_project (Conv2D)       (None, 14, 14, 64)   12288       ['block_6_depthwise_relu[0][0]'] \n",
            "                                                                                                  \n",
            " block_6_project_BN (BatchNorma  (None, 14, 14, 64)  256         ['block_6_project[0][0]']        \n",
            " lization)                                                                                        \n",
            "                                                                                                  \n",
            " block_7_expand (Conv2D)        (None, 14, 14, 384)  24576       ['block_6_project_BN[0][0]']     \n",
            "                                                                                                  \n",
            " block_7_expand_BN (BatchNormal  (None, 14, 14, 384)  1536       ['block_7_expand[0][0]']         \n",
            " ization)                                                                                         \n",
            "                                                                                                  \n",
            " block_7_expand_relu (ReLU)     (None, 14, 14, 384)  0           ['block_7_expand_BN[0][0]']      \n",
            "                                                                                                  \n",
            " block_7_depthwise (DepthwiseCo  (None, 14, 14, 384)  3456       ['block_7_expand_relu[0][0]']    \n",
            " nv2D)                                                                                            \n",
            "                                                                                                  \n",
            " block_7_depthwise_BN (BatchNor  (None, 14, 14, 384)  1536       ['block_7_depthwise[0][0]']      \n",
            " malization)                                                                                      \n",
            "                                                                                                  \n",
            " block_7_depthwise_relu (ReLU)  (None, 14, 14, 384)  0           ['block_7_depthwise_BN[0][0]']   \n",
            "                                                                                                  \n",
            " block_7_project (Conv2D)       (None, 14, 14, 64)   24576       ['block_7_depthwise_relu[0][0]'] \n",
            "                                                                                                  \n",
            " block_7_project_BN (BatchNorma  (None, 14, 14, 64)  256         ['block_7_project[0][0]']        \n",
            " lization)                                                                                        \n",
            "                                                                                                  \n",
            " block_7_add (Add)              (None, 14, 14, 64)   0           ['block_6_project_BN[0][0]',     \n",
            "                                                                  'block_7_project_BN[0][0]']     \n",
            "                                                                                                  \n",
            " block_8_expand (Conv2D)        (None, 14, 14, 384)  24576       ['block_7_add[0][0]']            \n",
            "                                                                                                  \n",
            " block_8_expand_BN (BatchNormal  (None, 14, 14, 384)  1536       ['block_8_expand[0][0]']         \n",
            " ization)                                                                                         \n",
            "                                                                                                  \n",
            " block_8_expand_relu (ReLU)     (None, 14, 14, 384)  0           ['block_8_expand_BN[0][0]']      \n",
            "                                                                                                  \n",
            " block_8_depthwise (DepthwiseCo  (None, 14, 14, 384)  3456       ['block_8_expand_relu[0][0]']    \n",
            " nv2D)                                                                                            \n",
            "                                                                                                  \n",
            " block_8_depthwise_BN (BatchNor  (None, 14, 14, 384)  1536       ['block_8_depthwise[0][0]']      \n",
            " malization)                                                                                      \n",
            "                                                                                                  \n",
            " block_8_depthwise_relu (ReLU)  (None, 14, 14, 384)  0           ['block_8_depthwise_BN[0][0]']   \n",
            "                                                                                                  \n",
            " block_8_project (Conv2D)       (None, 14, 14, 64)   24576       ['block_8_depthwise_relu[0][0]'] \n",
            "                                                                                                  \n",
            " block_8_project_BN (BatchNorma  (None, 14, 14, 64)  256         ['block_8_project[0][0]']        \n",
            " lization)                                                                                        \n",
            "                                                                                                  \n",
            " block_8_add (Add)              (None, 14, 14, 64)   0           ['block_7_add[0][0]',            \n",
            "                                                                  'block_8_project_BN[0][0]']     \n",
            "                                                                                                  \n",
            " block_9_expand (Conv2D)        (None, 14, 14, 384)  24576       ['block_8_add[0][0]']            \n",
            "                                                                                                  \n",
            " block_9_expand_BN (BatchNormal  (None, 14, 14, 384)  1536       ['block_9_expand[0][0]']         \n",
            " ization)                                                                                         \n",
            "                                                                                                  \n",
            " block_9_expand_relu (ReLU)     (None, 14, 14, 384)  0           ['block_9_expand_BN[0][0]']      \n",
            "                                                                                                  \n",
            " block_9_depthwise (DepthwiseCo  (None, 14, 14, 384)  3456       ['block_9_expand_relu[0][0]']    \n",
            " nv2D)                                                                                            \n",
            "                                                                                                  \n",
            " block_9_depthwise_BN (BatchNor  (None, 14, 14, 384)  1536       ['block_9_depthwise[0][0]']      \n",
            " malization)                                                                                      \n",
            "                                                                                                  \n",
            " block_9_depthwise_relu (ReLU)  (None, 14, 14, 384)  0           ['block_9_depthwise_BN[0][0]']   \n",
            "                                                                                                  \n",
            " block_9_project (Conv2D)       (None, 14, 14, 64)   24576       ['block_9_depthwise_relu[0][0]'] \n",
            "                                                                                                  \n",
            " block_9_project_BN (BatchNorma  (None, 14, 14, 64)  256         ['block_9_project[0][0]']        \n",
            " lization)                                                                                        \n",
            "                                                                                                  \n",
            " block_9_add (Add)              (None, 14, 14, 64)   0           ['block_8_add[0][0]',            \n",
            "                                                                  'block_9_project_BN[0][0]']     \n",
            "                                                                                                  \n",
            " block_10_expand (Conv2D)       (None, 14, 14, 384)  24576       ['block_9_add[0][0]']            \n",
            "                                                                                                  \n",
            " block_10_expand_BN (BatchNorma  (None, 14, 14, 384)  1536       ['block_10_expand[0][0]']        \n",
            " lization)                                                                                        \n",
            "                                                                                                  \n",
            " block_10_expand_relu (ReLU)    (None, 14, 14, 384)  0           ['block_10_expand_BN[0][0]']     \n",
            "                                                                                                  \n",
            " block_10_depthwise (DepthwiseC  (None, 14, 14, 384)  3456       ['block_10_expand_relu[0][0]']   \n",
            " onv2D)                                                                                           \n",
            "                                                                                                  \n",
            " block_10_depthwise_BN (BatchNo  (None, 14, 14, 384)  1536       ['block_10_depthwise[0][0]']     \n",
            " rmalization)                                                                                     \n",
            "                                                                                                  \n",
            " block_10_depthwise_relu (ReLU)  (None, 14, 14, 384)  0          ['block_10_depthwise_BN[0][0]']  \n",
            "                                                                                                  \n",
            " block_10_project (Conv2D)      (None, 14, 14, 96)   36864       ['block_10_depthwise_relu[0][0]']\n",
            "                                                                                                  \n",
            " block_10_project_BN (BatchNorm  (None, 14, 14, 96)  384         ['block_10_project[0][0]']       \n",
            " alization)                                                                                       \n",
            "                                                                                                  \n",
            " block_11_expand (Conv2D)       (None, 14, 14, 576)  55296       ['block_10_project_BN[0][0]']    \n",
            "                                                                                                  \n",
            " block_11_expand_BN (BatchNorma  (None, 14, 14, 576)  2304       ['block_11_expand[0][0]']        \n",
            " lization)                                                                                        \n",
            "                                                                                                  \n",
            " block_11_expand_relu (ReLU)    (None, 14, 14, 576)  0           ['block_11_expand_BN[0][0]']     \n",
            "                                                                                                  \n",
            " block_11_depthwise (DepthwiseC  (None, 14, 14, 576)  5184       ['block_11_expand_relu[0][0]']   \n",
            " onv2D)                                                                                           \n",
            "                                                                                                  \n",
            " block_11_depthwise_BN (BatchNo  (None, 14, 14, 576)  2304       ['block_11_depthwise[0][0]']     \n",
            " rmalization)                                                                                     \n",
            "                                                                                                  \n",
            " block_11_depthwise_relu (ReLU)  (None, 14, 14, 576)  0          ['block_11_depthwise_BN[0][0]']  \n",
            "                                                                                                  \n",
            " block_11_project (Conv2D)      (None, 14, 14, 96)   55296       ['block_11_depthwise_relu[0][0]']\n",
            "                                                                                                  \n",
            " block_11_project_BN (BatchNorm  (None, 14, 14, 96)  384         ['block_11_project[0][0]']       \n",
            " alization)                                                                                       \n",
            "                                                                                                  \n",
            " block_11_add (Add)             (None, 14, 14, 96)   0           ['block_10_project_BN[0][0]',    \n",
            "                                                                  'block_11_project_BN[0][0]']    \n",
            "                                                                                                  \n",
            " block_12_expand (Conv2D)       (None, 14, 14, 576)  55296       ['block_11_add[0][0]']           \n",
            "                                                                                                  \n",
            " block_12_expand_BN (BatchNorma  (None, 14, 14, 576)  2304       ['block_12_expand[0][0]']        \n",
            " lization)                                                                                        \n",
            "                                                                                                  \n",
            " block_12_expand_relu (ReLU)    (None, 14, 14, 576)  0           ['block_12_expand_BN[0][0]']     \n",
            "                                                                                                  \n",
            " block_12_depthwise (DepthwiseC  (None, 14, 14, 576)  5184       ['block_12_expand_relu[0][0]']   \n",
            " onv2D)                                                                                           \n",
            "                                                                                                  \n",
            " block_12_depthwise_BN (BatchNo  (None, 14, 14, 576)  2304       ['block_12_depthwise[0][0]']     \n",
            " rmalization)                                                                                     \n",
            "                                                                                                  \n",
            " block_12_depthwise_relu (ReLU)  (None, 14, 14, 576)  0          ['block_12_depthwise_BN[0][0]']  \n",
            "                                                                                                  \n",
            " block_12_project (Conv2D)      (None, 14, 14, 96)   55296       ['block_12_depthwise_relu[0][0]']\n",
            "                                                                                                  \n",
            " block_12_project_BN (BatchNorm  (None, 14, 14, 96)  384         ['block_12_project[0][0]']       \n",
            " alization)                                                                                       \n",
            "                                                                                                  \n",
            " block_12_add (Add)             (None, 14, 14, 96)   0           ['block_11_add[0][0]',           \n",
            "                                                                  'block_12_project_BN[0][0]']    \n",
            "                                                                                                  \n",
            " block_13_expand (Conv2D)       (None, 14, 14, 576)  55296       ['block_12_add[0][0]']           \n",
            "                                                                                                  \n",
            " block_13_expand_BN (BatchNorma  (None, 14, 14, 576)  2304       ['block_13_expand[0][0]']        \n",
            " lization)                                                                                        \n",
            "                                                                                                  \n",
            " block_13_expand_relu (ReLU)    (None, 14, 14, 576)  0           ['block_13_expand_BN[0][0]']     \n",
            "                                                                                                  \n",
            " block_13_pad (ZeroPadding2D)   (None, 15, 15, 576)  0           ['block_13_expand_relu[0][0]']   \n",
            "                                                                                                  \n",
            " block_13_depthwise (DepthwiseC  (None, 7, 7, 576)   5184        ['block_13_pad[0][0]']           \n",
            " onv2D)                                                                                           \n",
            "                                                                                                  \n",
            " block_13_depthwise_BN (BatchNo  (None, 7, 7, 576)   2304        ['block_13_depthwise[0][0]']     \n",
            " rmalization)                                                                                     \n",
            "                                                                                                  \n",
            " block_13_depthwise_relu (ReLU)  (None, 7, 7, 576)   0           ['block_13_depthwise_BN[0][0]']  \n",
            "                                                                                                  \n",
            " block_13_project (Conv2D)      (None, 7, 7, 160)    92160       ['block_13_depthwise_relu[0][0]']\n",
            "                                                                                                  \n",
            " block_13_project_BN (BatchNorm  (None, 7, 7, 160)   640         ['block_13_project[0][0]']       \n",
            " alization)                                                                                       \n",
            "                                                                                                  \n",
            " block_14_expand (Conv2D)       (None, 7, 7, 960)    153600      ['block_13_project_BN[0][0]']    \n",
            "                                                                                                  \n",
            " block_14_expand_BN (BatchNorma  (None, 7, 7, 960)   3840        ['block_14_expand[0][0]']        \n",
            " lization)                                                                                        \n",
            "                                                                                                  \n",
            " block_14_expand_relu (ReLU)    (None, 7, 7, 960)    0           ['block_14_expand_BN[0][0]']     \n",
            "                                                                                                  \n",
            " block_14_depthwise (DepthwiseC  (None, 7, 7, 960)   8640        ['block_14_expand_relu[0][0]']   \n",
            " onv2D)                                                                                           \n",
            "                                                                                                  \n",
            " block_14_depthwise_BN (BatchNo  (None, 7, 7, 960)   3840        ['block_14_depthwise[0][0]']     \n",
            " rmalization)                                                                                     \n",
            "                                                                                                  \n",
            " block_14_depthwise_relu (ReLU)  (None, 7, 7, 960)   0           ['block_14_depthwise_BN[0][0]']  \n",
            "                                                                                                  \n",
            " block_14_project (Conv2D)      (None, 7, 7, 160)    153600      ['block_14_depthwise_relu[0][0]']\n",
            "                                                                                                  \n",
            " block_14_project_BN (BatchNorm  (None, 7, 7, 160)   640         ['block_14_project[0][0]']       \n",
            " alization)                                                                                       \n",
            "                                                                                                  \n",
            " block_14_add (Add)             (None, 7, 7, 160)    0           ['block_13_project_BN[0][0]',    \n",
            "                                                                  'block_14_project_BN[0][0]']    \n",
            "                                                                                                  \n",
            " block_15_expand (Conv2D)       (None, 7, 7, 960)    153600      ['block_14_add[0][0]']           \n",
            "                                                                                                  \n",
            " block_15_expand_BN (BatchNorma  (None, 7, 7, 960)   3840        ['block_15_expand[0][0]']        \n",
            " lization)                                                                                        \n",
            "                                                                                                  \n",
            " block_15_expand_relu (ReLU)    (None, 7, 7, 960)    0           ['block_15_expand_BN[0][0]']     \n",
            "                                                                                                  \n",
            " block_15_depthwise (DepthwiseC  (None, 7, 7, 960)   8640        ['block_15_expand_relu[0][0]']   \n",
            " onv2D)                                                                                           \n",
            "                                                                                                  \n",
            " block_15_depthwise_BN (BatchNo  (None, 7, 7, 960)   3840        ['block_15_depthwise[0][0]']     \n",
            " rmalization)                                                                                     \n",
            "                                                                                                  \n",
            " block_15_depthwise_relu (ReLU)  (None, 7, 7, 960)   0           ['block_15_depthwise_BN[0][0]']  \n",
            "                                                                                                  \n",
            " block_15_project (Conv2D)      (None, 7, 7, 160)    153600      ['block_15_depthwise_relu[0][0]']\n",
            "                                                                                                  \n",
            " block_15_project_BN (BatchNorm  (None, 7, 7, 160)   640         ['block_15_project[0][0]']       \n",
            " alization)                                                                                       \n",
            "                                                                                                  \n",
            " block_15_add (Add)             (None, 7, 7, 160)    0           ['block_14_add[0][0]',           \n",
            "                                                                  'block_15_project_BN[0][0]']    \n",
            "                                                                                                  \n",
            " block_16_expand (Conv2D)       (None, 7, 7, 960)    153600      ['block_15_add[0][0]']           \n",
            "                                                                                                  \n",
            " block_16_expand_BN (BatchNorma  (None, 7, 7, 960)   3840        ['block_16_expand[0][0]']        \n",
            " lization)                                                                                        \n",
            "                                                                                                  \n",
            " block_16_expand_relu (ReLU)    (None, 7, 7, 960)    0           ['block_16_expand_BN[0][0]']     \n",
            "                                                                                                  \n",
            " block_16_depthwise (DepthwiseC  (None, 7, 7, 960)   8640        ['block_16_expand_relu[0][0]']   \n",
            " onv2D)                                                                                           \n",
            "                                                                                                  \n",
            " block_16_depthwise_BN (BatchNo  (None, 7, 7, 960)   3840        ['block_16_depthwise[0][0]']     \n",
            " rmalization)                                                                                     \n",
            "                                                                                                  \n",
            " block_16_depthwise_relu (ReLU)  (None, 7, 7, 960)   0           ['block_16_depthwise_BN[0][0]']  \n",
            "                                                                                                  \n",
            " block_16_project (Conv2D)      (None, 7, 7, 320)    307200      ['block_16_depthwise_relu[0][0]']\n",
            "                                                                                                  \n",
            " block_16_project_BN (BatchNorm  (None, 7, 7, 320)   1280        ['block_16_project[0][0]']       \n",
            " alization)                                                                                       \n",
            "                                                                                                  \n",
            " Conv_1 (Conv2D)                (None, 7, 7, 1280)   409600      ['block_16_project_BN[0][0]']    \n",
            "                                                                                                  \n",
            " Conv_1_bn (BatchNormalization)  (None, 7, 7, 1280)  5120        ['Conv_1[0][0]']                 \n",
            "                                                                                                  \n",
            " out_relu (ReLU)                (None, 7, 7, 1280)   0           ['Conv_1_bn[0][0]']              \n",
            "                                                                                                  \n",
            " global_average_pooling2d (Glob  (None, 1280)        0           ['out_relu[0][0]']               \n",
            " alAveragePooling2D)                                                                              \n",
            "                                                                                                  \n",
            " flatten (Flatten)              (None, 1280)         0           ['global_average_pooling2d[0][0]'\n",
            "                                                                 ]                                \n",
            "                                                                                                  \n",
            " dropout (Dropout)              (None, 1280)         0           ['flatten[0][0]']                \n",
            "                                                                                                  \n",
            " dense (Dense)                  (None, 4)            5124        ['dropout[0][0]']                \n",
            "                                                                                                  \n",
            "==================================================================================================\n",
            "Total params: 2,263,108\n",
            "Trainable params: 2,225,636\n",
            "Non-trainable params: 37,472\n",
            "__________________________________________________________________________________________________\n"
          ]
        }
      ],
      "source": [
        "model.summary()"
      ]
    },
    {
      "cell_type": "code",
      "execution_count": null,
      "metadata": {
        "id": "klT4IEPFFQss"
      },
      "outputs": [],
      "source": [
        "from tensorflow.keras.optimizers import Adam\n",
        "\n",
        "model.compile(\n",
        "  loss='categorical_crossentropy',\n",
        "  optimizer=Adam(learning_rate=0.001),\n",
        "  metrics=['accuracy']\n",
        ")"
      ]
    },
    {
      "cell_type": "code",
      "source": [
        "from keras.callbacks import ModelCheckpoint\n",
        "\n",
        "checkpoint = ModelCheckpoint(\n",
        "    '/content/drive/MyDrive/ML_Summer2023/leaf/best_model.h5',\n",
        "    monitor='val_loss',\n",
        "    mode='min',\n",
        "    save_best_only=True,\n",
        "    verbose=1\n",
        ")"
      ],
      "metadata": {
        "id": "M5xIMN6E9QEn"
      },
      "execution_count": null,
      "outputs": []
    },
    {
      "cell_type": "code",
      "source": [
        "r = model.fit_generator(\n",
        "    training_set,\n",
        "    validation_data=test_set,\n",
        "    epochs=50,\n",
        "    steps_per_epoch=len(training_set),\n",
        "    validation_steps=len(test_set),\n",
        "    callbacks=[checkpoint]  # Add the checkpoint callback\n",
        ")"
      ],
      "metadata": {
        "colab": {
          "base_uri": "https://localhost:8080/"
        },
        "id": "eGDOA0RX9Dxj",
        "outputId": "e35591b8-c938-4765-c792-63a118e16b05"
      },
      "execution_count": null,
      "outputs": [
        {
          "output_type": "stream",
          "name": "stderr",
          "text": [
            "<ipython-input-12-e1869cdef97c>:1: UserWarning: `Model.fit_generator` is deprecated and will be removed in a future version. Please use `Model.fit`, which supports generators.\n",
            "  r = model.fit_generator(\n"
          ]
        },
        {
          "output_type": "stream",
          "name": "stdout",
          "text": [
            "Epoch 1/50\n",
            "136/136 [==============================] - ETA: 0s - loss: 0.3067 - accuracy: 0.9131 \n",
            "Epoch 1: val_loss improved from inf to 10.10955, saving model to /content/drive/MyDrive/ML_Summer2023/leaf/best_model.h5\n",
            "136/136 [==============================] - 3650s 26s/step - loss: 0.3067 - accuracy: 0.9131 - val_loss: 10.1096 - val_accuracy: 0.4957\n",
            "Epoch 2/50\n",
            "136/136 [==============================] - ETA: 0s - loss: 0.1543 - accuracy: 0.9655\n",
            "Epoch 2: val_loss did not improve from 10.10955\n",
            "136/136 [==============================] - 190s 1s/step - loss: 0.1543 - accuracy: 0.9655 - val_loss: 11.5390 - val_accuracy: 0.3923\n",
            "Epoch 3/50\n",
            "136/136 [==============================] - ETA: 0s - loss: 0.1126 - accuracy: 0.9715\n",
            "Epoch 3: val_loss improved from 10.10955 to 9.07738, saving model to /content/drive/MyDrive/ML_Summer2023/leaf/best_model.h5\n",
            "136/136 [==============================] - 192s 1s/step - loss: 0.1126 - accuracy: 0.9715 - val_loss: 9.0774 - val_accuracy: 0.4437\n",
            "Epoch 4/50\n",
            "136/136 [==============================] - ETA: 0s - loss: 0.0842 - accuracy: 0.9783\n",
            "Epoch 4: val_loss improved from 9.07738 to 1.62373, saving model to /content/drive/MyDrive/ML_Summer2023/leaf/best_model.h5\n",
            "136/136 [==============================] - 219s 2s/step - loss: 0.0842 - accuracy: 0.9783 - val_loss: 1.6237 - val_accuracy: 0.7666\n",
            "Epoch 5/50\n",
            "136/136 [==============================] - ETA: 0s - loss: 0.0667 - accuracy: 0.9849\n",
            "Epoch 5: val_loss improved from 1.62373 to 1.31224, saving model to /content/drive/MyDrive/ML_Summer2023/leaf/best_model.h5\n",
            "136/136 [==============================] - 193s 1s/step - loss: 0.0667 - accuracy: 0.9849 - val_loss: 1.3122 - val_accuracy: 0.7964\n",
            "Epoch 6/50\n",
            "136/136 [==============================] - ETA: 0s - loss: 0.0560 - accuracy: 0.9860\n",
            "Epoch 6: val_loss improved from 1.31224 to 0.70542, saving model to /content/drive/MyDrive/ML_Summer2023/leaf/best_model.h5\n",
            "136/136 [==============================] - 191s 1s/step - loss: 0.0560 - accuracy: 0.9860 - val_loss: 0.7054 - val_accuracy: 0.8722\n",
            "Epoch 7/50\n",
            "136/136 [==============================] - ETA: 0s - loss: 0.0670 - accuracy: 0.9818\n",
            "Epoch 7: val_loss did not improve from 0.70542\n",
            "136/136 [==============================] - 194s 1s/step - loss: 0.0670 - accuracy: 0.9818 - val_loss: 1.1906 - val_accuracy: 0.8151\n",
            "Epoch 8/50\n",
            "136/136 [==============================] - ETA: 0s - loss: 0.0598 - accuracy: 0.9842\n",
            "Epoch 8: val_loss did not improve from 0.70542\n",
            "136/136 [==============================] - 190s 1s/step - loss: 0.0598 - accuracy: 0.9842 - val_loss: 2.3240 - val_accuracy: 0.7058\n",
            "Epoch 9/50\n",
            "136/136 [==============================] - ETA: 0s - loss: 0.0541 - accuracy: 0.9855\n",
            "Epoch 9: val_loss did not improve from 0.70542\n",
            "136/136 [==============================] - 193s 1s/step - loss: 0.0541 - accuracy: 0.9855 - val_loss: 2.9199 - val_accuracy: 0.7018\n",
            "Epoch 10/50\n",
            "136/136 [==============================] - ETA: 0s - loss: 0.0538 - accuracy: 0.9869\n",
            "Epoch 10: val_loss did not improve from 0.70542\n",
            "136/136 [==============================] - 187s 1s/step - loss: 0.0538 - accuracy: 0.9869 - val_loss: 2.6032 - val_accuracy: 0.6726\n",
            "Epoch 11/50\n",
            "136/136 [==============================] - ETA: 0s - loss: 0.0669 - accuracy: 0.9822\n",
            "Epoch 11: val_loss improved from 0.70542 to 0.67503, saving model to /content/drive/MyDrive/ML_Summer2023/leaf/best_model.h5\n",
            "136/136 [==============================] - 187s 1s/step - loss: 0.0669 - accuracy: 0.9822 - val_loss: 0.6750 - val_accuracy: 0.8652\n",
            "Epoch 12/50\n",
            "136/136 [==============================] - ETA: 0s - loss: 0.0459 - accuracy: 0.9902\n",
            "Epoch 12: val_loss improved from 0.67503 to 0.28865, saving model to /content/drive/MyDrive/ML_Summer2023/leaf/best_model.h5\n",
            "136/136 [==============================] - 189s 1s/step - loss: 0.0459 - accuracy: 0.9902 - val_loss: 0.2886 - val_accuracy: 0.9360\n",
            "Epoch 13/50\n",
            "136/136 [==============================] - ETA: 0s - loss: 0.0424 - accuracy: 0.9892\n",
            "Epoch 13: val_loss did not improve from 0.28865\n",
            "136/136 [==============================] - 185s 1s/step - loss: 0.0424 - accuracy: 0.9892 - val_loss: 2.7540 - val_accuracy: 0.6436\n",
            "Epoch 14/50\n",
            "136/136 [==============================] - ETA: 0s - loss: 0.0488 - accuracy: 0.9874\n",
            "Epoch 14: val_loss did not improve from 0.28865\n",
            "136/136 [==============================] - 189s 1s/step - loss: 0.0488 - accuracy: 0.9874 - val_loss: 0.7489 - val_accuracy: 0.8583\n",
            "Epoch 15/50\n",
            "136/136 [==============================] - ETA: 0s - loss: 0.0366 - accuracy: 0.9897\n",
            "Epoch 15: val_loss did not improve from 0.28865\n",
            "136/136 [==============================] - 191s 1s/step - loss: 0.0366 - accuracy: 0.9897 - val_loss: 0.8541 - val_accuracy: 0.8676\n",
            "Epoch 16/50\n",
            "136/136 [==============================] - ETA: 0s - loss: 0.0438 - accuracy: 0.9891\n",
            "Epoch 16: val_loss did not improve from 0.28865\n",
            "136/136 [==============================] - 186s 1s/step - loss: 0.0438 - accuracy: 0.9891 - val_loss: 1.5813 - val_accuracy: 0.7736\n",
            "Epoch 17/50\n",
            "136/136 [==============================] - ETA: 0s - loss: 0.0408 - accuracy: 0.9877\n",
            "Epoch 17: val_loss did not improve from 0.28865\n",
            "136/136 [==============================] - 188s 1s/step - loss: 0.0408 - accuracy: 0.9877 - val_loss: 0.8167 - val_accuracy: 0.8491\n",
            "Epoch 18/50\n",
            "136/136 [==============================] - ETA: 0s - loss: 0.0420 - accuracy: 0.9893\n",
            "Epoch 18: val_loss did not improve from 0.28865\n",
            "136/136 [==============================] - 191s 1s/step - loss: 0.0420 - accuracy: 0.9893 - val_loss: 1.0247 - val_accuracy: 0.8213\n",
            "Epoch 19/50\n",
            "136/136 [==============================] - ETA: 0s - loss: 0.0317 - accuracy: 0.9924\n",
            "Epoch 19: val_loss did not improve from 0.28865\n",
            "136/136 [==============================] - 187s 1s/step - loss: 0.0317 - accuracy: 0.9924 - val_loss: 3.3033 - val_accuracy: 0.6393\n",
            "Epoch 20/50\n",
            "136/136 [==============================] - ETA: 0s - loss: 0.0429 - accuracy: 0.9885\n",
            "Epoch 20: val_loss did not improve from 0.28865\n",
            "136/136 [==============================] - 191s 1s/step - loss: 0.0429 - accuracy: 0.9885 - val_loss: 0.6429 - val_accuracy: 0.8883\n",
            "Epoch 21/50\n",
            "136/136 [==============================] - ETA: 0s - loss: 0.0385 - accuracy: 0.9915\n",
            "Epoch 21: val_loss did not improve from 0.28865\n",
            "136/136 [==============================] - 187s 1s/step - loss: 0.0385 - accuracy: 0.9915 - val_loss: 2.3614 - val_accuracy: 0.7248\n",
            "Epoch 22/50\n",
            "136/136 [==============================] - ETA: 0s - loss: 0.0374 - accuracy: 0.9908\n",
            "Epoch 22: val_loss did not improve from 0.28865\n",
            "136/136 [==============================] - 187s 1s/step - loss: 0.0374 - accuracy: 0.9908 - val_loss: 1.3224 - val_accuracy: 0.7939\n",
            "Epoch 23/50\n",
            "136/136 [==============================] - ETA: 0s - loss: 0.0556 - accuracy: 0.9853"
          ]
        }
      ]
    },
    {
      "cell_type": "code",
      "execution_count": null,
      "metadata": {
        "id": "ilCWyO0XFZNq"
      },
      "outputs": [],
      "source": []
    },
    {
      "cell_type": "code",
      "execution_count": null,
      "metadata": {
        "id": "pF2NpNK3Ew-D"
      },
      "outputs": [],
      "source": [
        "import tensorflow as tf\n",
        "\n",
        "\n",
        "keras_model = tf.keras.models.load_model('/content/drive/MyDrive/ML_Summer2023/leaf/best_model.h5')\n"
      ]
    },
    {
      "cell_type": "code",
      "execution_count": null,
      "metadata": {
        "id": "FWG_I0nTE0bd",
        "colab": {
          "base_uri": "https://localhost:8080/"
        },
        "outputId": "a20d49c6-6541-49ec-bf3c-a12b6793b2d5"
      },
      "outputs": [
        {
          "output_type": "stream",
          "name": "stderr",
          "text": [
            "WARNING:absl:Found untraced functions such as _jit_compiled_convolution_op, _jit_compiled_convolution_op, _jit_compiled_convolution_op, _jit_compiled_convolution_op, _jit_compiled_convolution_op while saving (showing 5 of 53). These functions will not be directly callable after loading.\n"
          ]
        }
      ],
      "source": [
        "# Convert the Keras model to a TFLite model\n",
        "converter = tf.lite.TFLiteConverter.from_keras_model(keras_model)\n",
        "tflite_model = converter.convert()\n"
      ]
    },
    {
      "cell_type": "code",
      "source": [
        "# Save the TFLite model to a file\n",
        "with open('/content/drive/MyDrive/ML_Summer2023/leaf/converted_model.tflite', 'wb') as f:\n",
        "    f.write(tflite_model)\n"
      ],
      "metadata": {
        "id": "lL0dVKya72sj"
      },
      "execution_count": null,
      "outputs": []
    },
    {
      "cell_type": "code",
      "source": [
        "from tensorflow.keras.preprocessing.image import load_img, img_to_array\n",
        "\n",
        "# Define the preprocess_image function based on your preprocessing requirements\n",
        "def preprocess_image(image_path, target_size=(224, 224)):\n",
        "    # Load the image and resize it\n",
        "    img = load_img(image_path, target_size=target_size)\n",
        "    # Convert the image to a NumPy array\n",
        "    img_array = img_to_array(img)\n",
        "    # Normalize pixel values to the range [0, 1]\n",
        "    img_array = img_array / 255.0\n",
        "    # Add an additional dimension to match the model's input shape\n",
        "    img_array = np.expand_dims(img_array, axis=0)\n",
        "    return img_array\n",
        "\n",
        "# Rest of your code (loading the TFLite model, performing inference, etc.)\n"
      ],
      "metadata": {
        "id": "H1SQ-K2iH5Uz"
      },
      "execution_count": null,
      "outputs": []
    },
    {
      "cell_type": "code",
      "source": [
        "import tensorflow as tf\n",
        "import numpy as np\n",
        "import os\n",
        "\n",
        "# Load the TFLite model\n",
        "interpreter = tf.lite.Interpreter(model_path='/content/drive/MyDrive/ML_Summer2023/leaf/converted_model.tflite')\n",
        "interpreter.allocate_tensors()\n",
        "\n",
        "# Get input and output tensor details\n",
        "input_details = interpreter.get_input_details()\n",
        "output_details = interpreter.get_output_details()\n",
        "\n",
        "# Define class names based on subfolder names\n",
        "class_names = sorted(os.listdir('/content/drive/MyDrive/ML_Summer2023/leaf/data/test'))  # List subfolder names\n",
        "\n",
        "correct_predictions = 0\n",
        "total_samples = 0\n",
        "\n",
        "# Iterate through subfolders (classes)\n",
        "for class_name in class_names:\n",
        "    class_folder = os.path.join('/content/drive/MyDrive/ML_Summer2023/leaf/data/test', class_name)\n",
        "    files = os.listdir(class_folder)\n",
        "\n",
        "    for file_name in files:\n",
        "        image_path = os.path.join(class_folder, file_name)\n",
        "        image = preprocess_image(image_path)  # Preprocess the image\n",
        "\n",
        "        # Perform inference\n",
        "        interpreter.set_tensor(input_details[0]['index'], image)\n",
        "        interpreter.invoke()\n",
        "        output = interpreter.get_tensor(output_details[0]['index'])\n",
        "\n",
        "        predicted_class = np.argmax(output)\n",
        "        if predicted_class == class_names.index(class_name):\n",
        "            correct_predictions += 1\n",
        "        total_samples += 1\n",
        "\n",
        "accuracy = correct_predictions / total_samples\n",
        "print(f\"Accuracy: {accuracy:.2f}\")\n"
      ],
      "metadata": {
        "id": "n7UPQiLp8pep"
      },
      "execution_count": null,
      "outputs": []
    },
    {
      "cell_type": "code",
      "source": [
        "import tensorflow as tf\n",
        "import numpy as np\n",
        "from sklearn.metrics import precision_score\n",
        "import os\n",
        "\n",
        "# Define the preprocess_image function based on your preprocessing requirements\n",
        "def preprocess_image(image_path, target_size=(224, 224)):\n",
        "    img = load_img(image_path, target_size=target_size)\n",
        "    img_array = img_to_array(img)\n",
        "    img_array = img_array / 255.0  # Normalize to [0, 1]\n",
        "    img_array = img_array.astype(np.float32)  # Convert to FLOAT32\n",
        "    img_array = np.expand_dims(img_array, axis=0)\n",
        "    return img_array\n",
        "\n",
        "\n",
        "# Load the TFLite model\n",
        "interpreter = tf.lite.Interpreter(model_path='/content/drive/MyDrive/ML_Summer2023/leaf/converted_model.tflite')\n",
        "interpreter.allocate_tensors()\n",
        "\n",
        "# Get input and output tensor details\n",
        "input_details = interpreter.get_input_details()\n",
        "output_details = interpreter.get_output_details()\n",
        "\n",
        "# Define class names based on subfolder names\n",
        "class_names = sorted(os.listdir('/content/drive/MyDrive/ML_Summer2023/leaf/data/test'))   # List subfolder names\n",
        "\n",
        "true_labels = []\n",
        "predicted_labels = []\n",
        "\n",
        "# Iterate through subfolders (classes)\n",
        "for class_name in class_names:\n",
        "    class_folder = os.path.join('/content/drive/MyDrive/ML_Summer2023/leaf/data/test', class_name)\n",
        "    files = os.listdir(class_folder)\n",
        "\n",
        "    for file_name in files:\n",
        "        image_path = os.path.join(class_folder, file_name)\n",
        "        image = preprocess_image(image_path)  # Preprocess the image\n",
        "\n",
        "        # Perform inference\n",
        "        interpreter.set_tensor(input_details[0]['index'], image)\n",
        "        interpreter.invoke()\n",
        "        output = interpreter.get_tensor(output_details[0]['index'])\n",
        "\n",
        "        predicted_class = np.argmax(output)\n",
        "        true_labels.append(class_names.index(class_name))\n",
        "        predicted_labels.append(predicted_class)\n",
        "\n",
        "# Calculate precision for each class\n",
        "precision = precision_score(true_labels, predicted_labels, average=None)\n",
        "\n",
        "# Print precision for each class\n",
        "for class_name, class_precision in zip(class_names, precision):\n",
        "    print(f\"Precision for {class_name}: {class_precision:.2f}\")\n"
      ],
      "metadata": {
        "colab": {
          "base_uri": "https://localhost:8080/"
        },
        "id": "ETaRiINoH7tF",
        "outputId": "22d4aae3-c767-4cf6-aea7-8d733b981bec"
      },
      "execution_count": null,
      "outputs": [
        {
          "output_type": "stream",
          "name": "stdout",
          "text": [
            "Precision for Bacterial Spot: 0.98\n",
            "Precision for Blight: 0.98\n",
            "Precision for Healthy: 0.88\n",
            "Precision for Leaf Spot: 0.97\n"
          ]
        }
      ]
    },
    {
      "cell_type": "code",
      "source": [],
      "metadata": {
        "id": "gqGVhsCoFz4y"
      },
      "execution_count": null,
      "outputs": []
    },
    {
      "cell_type": "markdown",
      "source": [
        "# Without Quantization"
      ],
      "metadata": {
        "id": "6SDYoEhFF1iB"
      }
    },
    {
      "cell_type": "code",
      "source": [
        "import os\n",
        "\n",
        "# Directory containing test images\n",
        "test_images_dir = '/content/drive/MyDrive/ML_Summer2023/leaf/data/test/Blight'\n",
        "\n",
        "# Get list of image file paths in the directory\n",
        "test_image_paths = [os.path.join(test_images_dir, filename) for filename in os.listdir(test_images_dir) if filename.endswith('.JPG')]\n",
        "\n",
        "# Now you can use test_image_paths in the code\n"
      ],
      "metadata": {
        "id": "OIQnVp2EBAF9"
      },
      "execution_count": null,
      "outputs": []
    },
    {
      "cell_type": "code",
      "source": [
        "import numpy as np\n",
        "import tensorflow as tf\n",
        "import time\n",
        "\n",
        "# Load your TFLite model\n",
        "interpreter = tf.lite.Interpreter(model_path='/content/drive/MyDrive/ML_Summer2023/leaf/converted_model.tflite')  # Load the .tflite model file\n",
        "interpreter.allocate_tensors()\n",
        "\n",
        "# Get input and output tensors\n",
        "input_details = interpreter.get_input_details()\n",
        "output_details = interpreter.get_output_details()\n",
        "\n",
        "# Load test dataset and preprocess images\n",
        "# Assuming you have a list of image file paths in test_image_paths\n",
        "test_images = [tf.keras.preprocessing.image.load_img(image_path, target_size=(224, 224)) for image_path in test_image_paths]\n",
        "test_images = [tf.keras.preprocessing.image.img_to_array(image) for image in test_images]\n",
        "test_images = [np.expand_dims(image, axis=0) for image in test_images]\n",
        "\n",
        "\n",
        "\n",
        "# Perform warm-up inference\n",
        "warmup_iterations = 10\n",
        "for _ in range(warmup_iterations):\n",
        "    interpreter.set_tensor(input_details[0]['index'], test_images[0])\n",
        "    interpreter.invoke()\n",
        "\n",
        "\n",
        "# Calculate inference time for all test images\n",
        "inference_times = []\n",
        "for test_image in test_images:\n",
        "    start_time = time.time()\n",
        "    interpreter.set_tensor(input_details[0]['index'], test_image)\n",
        "    interpreter.invoke()\n",
        "    _ = interpreter.get_tensor(output_details[0]['index'])\n",
        "    end_time = time.time()\n",
        "    inference_time = (end_time - start_time) *1000\n",
        "    inference_times.append(inference_time)\n",
        "\n",
        "average_inference_time = sum(inference_times) / len(inference_times)\n",
        "\n",
        "print(f\"Total inference time for {len(test_images)} test images: {sum(inference_times):.2f} milliseconds\")\n",
        "print(f\"Average inference time per image: {average_inference_time:.2f} milliseconds\")\n"
      ],
      "metadata": {
        "colab": {
          "base_uri": "https://localhost:8080/"
        },
        "id": "zEDCoLH3Cci9",
        "outputId": "9d541f80-e26a-4440-c18e-184f6db1a9d8"
      },
      "execution_count": null,
      "outputs": [
        {
          "output_type": "stream",
          "name": "stdout",
          "text": [
            "Total inference time for 837 test images: 14133.64 milliseconds\n",
            "Average inference time per image: 16.89 milliseconds\n"
          ]
        }
      ]
    },
    {
      "cell_type": "markdown",
      "source": [
        "#Post_training Quantization"
      ],
      "metadata": {
        "id": "Gxpj3dY8F5Zx"
      }
    },
    {
      "cell_type": "code",
      "source": [
        "import tensorflow as tf\n",
        "\n",
        "# Load your trained .h5 model\n",
        "model = tf.keras.models.load_model('/content/drive/MyDrive/ML_Summer2023/leaf/best_model.h5')\n",
        "\n",
        "# Convert the model to a quantization-friendly format\n",
        "converter = tf.lite.TFLiteConverter.from_keras_model(model)\n",
        "converter.optimizations = [tf.lite.Optimize.DEFAULT]\n",
        "tflite_model = converter.convert()\n",
        "\n",
        "# Save the quantized model to a .tflite file\n",
        "with open('/content/drive/MyDrive/ML_Summer2023/leaf/quantized_model.tflite', 'wb') as f:\n",
        "    f.write(tflite_model)\n",
        "\n",
        "print(\"Quantized model saved as quantized_model.tflite\")\n"
      ],
      "metadata": {
        "colab": {
          "base_uri": "https://localhost:8080/"
        },
        "id": "XjjsB2o5Ei6K",
        "outputId": "ec13f9c8-877d-43f4-c2c7-8b9c5a9639c7"
      },
      "execution_count": null,
      "outputs": [
        {
          "output_type": "stream",
          "name": "stderr",
          "text": [
            "WARNING:absl:Found untraced functions such as _jit_compiled_convolution_op, _jit_compiled_convolution_op, _jit_compiled_convolution_op, _jit_compiled_convolution_op, _jit_compiled_convolution_op while saving (showing 5 of 53). These functions will not be directly callable after loading.\n"
          ]
        },
        {
          "output_type": "stream",
          "name": "stdout",
          "text": [
            "Quantized model saved as quantized_model.tflite\n"
          ]
        }
      ]
    },
    {
      "cell_type": "code",
      "source": [
        "import numpy as np\n",
        "import tensorflow as tf\n",
        "import time\n",
        "\n",
        "\n",
        "interpreter = tf.lite.Interpreter(model_path='/content/drive/MyDrive/ML_Summer2023/leaf/quantized_model.tflite')\n",
        "interpreter.allocate_tensors()\n",
        "input_details = interpreter.get_input_details()\n",
        "output_details = interpreter.get_output_details()\n",
        "\n",
        "test_images = [tf.keras.preprocessing.image.load_img(image_path, target_size=(224, 224)) for image_path in test_image_paths]\n",
        "test_images = [tf.keras.preprocessing.image.img_to_array(image) for image in test_images]\n",
        "test_images = [np.expand_dims(image, axis=0) for image in test_images]\n",
        "\n",
        "warmup_iterations = 10\n",
        "for _ in range(warmup_iterations):\n",
        "    interpreter.set_tensor(input_details[0]['index'], test_images[0])\n",
        "    interpreter.invoke()\n",
        "\n",
        "inference_times = []\n",
        "for test_image in test_images:\n",
        "    start_time = time.time()\n",
        "    interpreter.set_tensor(input_details[0]['index'], test_image)\n",
        "    interpreter.invoke()\n",
        "    _ = interpreter.get_tensor(output_details[0]['index'])\n",
        "    end_time = time.time()\n",
        "    inference_time = (end_time - start_time) *1000\n",
        "    inference_times.append(inference_time)\n",
        "\n",
        "average_inference_time = sum(inference_times) / len(inference_times)\n",
        "\n",
        "print(f\"Total inference time for {len(test_images)} test images: {sum(inference_times):.2f} milliseconds\")\n",
        "print(f\"Average inference time per image: {average_inference_time:.2f} milliseconds\")\n"
      ],
      "metadata": {
        "colab": {
          "base_uri": "https://localhost:8080/"
        },
        "id": "kVyo_EZzIffn",
        "outputId": "f3aeb27f-4dfb-4d6a-8268-2ff20a863a27"
      },
      "execution_count": null,
      "outputs": [
        {
          "output_type": "stream",
          "name": "stdout",
          "text": [
            "Total inference time for 837 test images: 31958.75 milliseconds\n",
            "Average inference time per image: 38.18 milliseconds\n"
          ]
        }
      ]
    },
    {
      "cell_type": "code",
      "source": [],
      "metadata": {
        "id": "bQ-l-Rk7I2oA"
      },
      "execution_count": null,
      "outputs": []
    }
  ],
  "metadata": {
    "accelerator": "GPU",
    "colab": {
      "provenance": [],
      "gpuType": "T4"
    },
    "kernelspec": {
      "display_name": "Python 3",
      "name": "python3"
    },
    "language_info": {
      "name": "python"
    }
  },
  "nbformat": 4,
  "nbformat_minor": 0
}